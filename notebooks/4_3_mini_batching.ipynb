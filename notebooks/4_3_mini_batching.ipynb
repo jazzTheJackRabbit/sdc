{
 "cells": [
  {
   "cell_type": "code",
   "execution_count": 43,
   "metadata": {
    "collapsed": true
   },
   "outputs": [],
   "source": [
    "import math\n",
    "def batches(batch_size, features, labels):\n",
    "    \"\"\"\n",
    "    Create batches of features and labels\n",
    "    :param batch_size: The batch size\n",
    "    :param features: List of features\n",
    "    :param labels: List of labels\n",
    "    :return: Batches of (Features, Labels)\n",
    "    \"\"\"\n",
    "    assert len(features) == len(labels)\n",
    "    # TODO: Implement batching\n",
    "    last_batch_size = len(features) % batch_size\n",
    "\n",
    "    import math\n",
    "\n",
    "    batches = int(math.ceil(len(features)/float(batch_size)))\n",
    "\n",
    "    batched_data = []\n",
    "\n",
    "    for i in range(0, batches):\n",
    "        if i == batches - 1:\n",
    "            batch_size = last_batch_size\n",
    "        batch = [features[i:i+batch_size]] + [labels[i:i+batch_size]]\n",
    "        batched_data.append(batch)\n",
    "    return batched_data\n"
   ]
  },
  {
   "cell_type": "code",
   "execution_count": 48,
   "metadata": {},
   "outputs": [
    {
     "name": "stdout",
     "output_type": "stream",
     "text": [
      "[   [   [   ['F11', 'F12', 'F13', 'F14'],\n",
      "            ['F21', 'F22', 'F23', 'F24'],\n",
      "            ['F31', 'F32', 'F33', 'F34']],\n",
      "        [['L11', 'L12'], ['L21', 'L22'], ['L31', 'L32']]],\n",
      "    [[['F21', 'F22', 'F23', 'F24']], [['L21', 'L22']]]]\n"
     ]
    }
   ],
   "source": [
    "from pprint import pprint\n",
    "\n",
    "# 4 Samples of features\n",
    "features = [\n",
    "    ['F11','F12','F13','F14'],\n",
    "    ['F21','F22','F23','F24'],\n",
    "    ['F31','F32','F33','F34'],\n",
    "    ['F41','F42','F43','F44']]\n",
    "# 4 Samples of labels\n",
    "labels = [\n",
    "    ['L11','L12'],\n",
    "    ['L21','L22'],\n",
    "    ['L31','L32'],\n",
    "    ['L41','L42']]\n",
    "\n",
    "# PPrint prints data structures like 2d arrays, so they are easier to read\n",
    "batch_size = 3\n",
    "pprint(batches(batch_size, features, labels), indent=4, width=60)"
   ]
  },
  {
   "cell_type": "code",
   "execution_count": null,
   "metadata": {
    "collapsed": true
   },
   "outputs": [],
   "source": []
  }
 ],
 "metadata": {
  "kernelspec": {
   "display_name": "Python 2",
   "language": "python",
   "name": "python2"
  },
  "language_info": {
   "codemirror_mode": {
    "name": "ipython",
    "version": 2
   },
   "file_extension": ".py",
   "mimetype": "text/x-python",
   "name": "python",
   "nbconvert_exporter": "python",
   "pygments_lexer": "ipython2",
   "version": "2.7.12"
  }
 },
 "nbformat": 4,
 "nbformat_minor": 2
}
